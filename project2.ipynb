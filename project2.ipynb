{
 "cells": [
  {
   "cell_type": "code",
   "execution_count": 1,
   "metadata": {},
   "outputs": [
    {
     "name": "stderr",
     "output_type": "stream",
     "text": [
      "/home/x1b3d3ad/.local/lib/python3.11/site-packages/matplotlib/projections/__init__.py:63: UserWarning: Unable to import Axes3D. This may be due to multiple versions of Matplotlib being installed (e.g. as a system package and as a pip package). As a result, the 3D projection is not available.\n",
      "  warnings.warn(\"Unable to import Axes3D. This may be due to multiple versions of \"\n"
     ]
    }
   ],
   "source": [
    "import pandas as pd \n",
    "import seaborn as sns\n",
    "from matplotlib import pyplot as plt\n",
    "import os"
   ]
  },
  {
   "cell_type": "code",
   "execution_count": 2,
   "metadata": {},
   "outputs": [
    {
     "name": "stdout",
     "output_type": "stream",
     "text": [
      "/home/x1b3d3ad/spring2024/dataScience/cs5830_project2\n"
     ]
    }
   ],
   "source": [
    "cwd = os.getcwd()\n",
    "print(cwd)\n",
    "dataPath = os.path.join(cwd, 'data')\n",
    "austin_housing = pd.read_csv(os.path.join(dataPath, 'crime-housing-austin-2015.csv'))\n",
    "zip_codes = pd.read_csv(os.path.join(dataPath, 'AustinZipCodes.csv'))"
   ]
  },
  {
   "cell_type": "code",
   "execution_count": 3,
   "metadata": {},
   "outputs": [
    {
     "data": {
      "text/plain": [
       "Index(['Key', 'Council_District', 'Highest_Offense_Desc',\n",
       "       'Highest_NIBRS_UCR_Offense_Description', 'Report_Date', 'Location',\n",
       "       'Clearance_Status', 'Clearance_Date', 'District', 'Zip_Code_Crime',\n",
       "       'Census_Tract', 'X_Coordinate', 'Y_Coordinate', 'Zip_Code_Housing',\n",
       "       'Populationbelowpovertylevel', 'Medianhouseholdincome',\n",
       "       'Non-WhiteNon-HispanicorLatino', 'HispanicorLatinoofanyrace',\n",
       "       'Populationwithdisability', 'Unemployment',\n",
       "       'Largehouseholds(5+members)',\n",
       "       'Homesaffordabletopeopleearninglessthan$50000',\n",
       "       'Rentalsaffordabletopeopleearninglessthan$25000',\n",
       "       'Rent-restrictedunits', 'HousingChoiceVoucherholders', 'Medianrent',\n",
       "       'Medianhomevalue', 'Percentageofrentalunitsinpoorcondition',\n",
       "       'Percentchangeinnumberofhousingunits2000-2012',\n",
       "       'Ownerunitsaffordabletoaverageretail/serviceworker',\n",
       "       'Rentalunitsaffordabletoaverageretail/serviceworker',\n",
       "       'Rentalunitsaffordabletoaverageartist',\n",
       "       'Ownerunitsaffordabletoaverageartist',\n",
       "       'Rentalunitsaffordabletoaverageteacher',\n",
       "       'Ownerunitsaffordabletoaverageteacher',\n",
       "       'Rentalunitsaffordabletoaveragetechworker',\n",
       "       'Ownerunitsaffordabletoaveragetechworker',\n",
       "       'Changeinpercentageofpopulationbelowpoverty2000-2012',\n",
       "       'Changeinmedianrent2000-2012', 'Changeinmedianhomevalue2000-2012',\n",
       "       'Percentageofhomeswithin1/4-mioftransitstop',\n",
       "       'Averagemonthlytransportationcost',\n",
       "       'Percentageofhousingandtransportationcoststhatistransportation-related'],\n",
       "      dtype='object')"
      ]
     },
     "execution_count": 3,
     "metadata": {},
     "output_type": "execute_result"
    }
   ],
   "source": [
    "austin_housing.head()\n",
    "austin_housing.columns"
   ]
  },
  {
   "cell_type": "code",
   "execution_count": 4,
   "metadata": {},
   "outputs": [
    {
     "data": {
      "text/plain": [
       "Index(['#', 'Zip Code', 'Location', 'City', 'Population', 'People / Sq. Mile',\n",
       "       'National Rank'],\n",
       "      dtype='object')"
      ]
     },
     "execution_count": 4,
     "metadata": {},
     "output_type": "execute_result"
    }
   ],
   "source": [
    "zip_codes.head()\n",
    "zip_codes.columns"
   ]
  },
  {
   "cell_type": "code",
   "execution_count": 15,
   "metadata": {},
   "outputs": [
    {
     "name": "stdout",
     "output_type": "stream",
     "text": [
      "         Key  Council_District       Highest_Offense_Desc   \n",
      "0  201510782               4.0  AGG ROBBERY/DEADLY WEAPON  \\\n",
      "\n",
      "  Highest_NIBRS_UCR_Offense_Description Report_Date              Location   \n",
      "0                               Robbery  2015-01-01  9001 N IH 35 SVRD NB  \\\n",
      "\n",
      "  Clearance_Status Clearance_Date District  Zip_Code_Crime  ...   \n",
      "0                N      28-Jan-15        E         78753.0  ...  \\\n",
      "\n",
      "   Rentalunitsaffordabletoaverageteacher   \n",
      "0                                    89%  \\\n",
      "\n",
      "   Ownerunitsaffordabletoaverageteacher   \n",
      "0                                   75%  \\\n",
      "\n",
      "   Rentalunitsaffordabletoaveragetechworker   \n",
      "0                                      100%  \\\n",
      "\n",
      "   Ownerunitsaffordabletoaveragetechworker   \n",
      "0                                      98%  \\\n",
      "\n",
      "  Changeinpercentageofpopulationbelowpoverty2000-2012   \n",
      "0                                               128%   \\\n",
      "\n",
      "  Changeinmedianrent2000-2012 Changeinmedianhomevalue2000-2012   \n",
      "0                         26%                              40%  \\\n",
      "\n",
      "  Percentageofhomeswithin1/4-mioftransitstop Averagemonthlytransportationcost   \n",
      "0                                        59%                             $708  \\\n",
      "\n",
      "  Percentageofhousingandtransportationcoststhatistransportation-related  \n",
      "0                                                44%                     \n",
      "\n",
      "[1 rows x 43 columns]\n"
     ]
    }
   ],
   "source": [
    "\"\"\" \n",
    "Karl's Analysis \n",
    "Do something with Dates\n",
    "\"\"\"\n",
    "\n",
    "df = austin_housing.copy()\n",
    "# Date format: 01-Jan-15.  d=day, b=abbreviated month,y=2-digit year\n",
    "df['Report_Date'] = pd.to_datetime(df['Report_Date'], format='%d-%b-%y')\n",
    "print(df.head(1))\n",
    "\n"
   ]
  }
 ],
 "metadata": {
  "kernelspec": {
   "display_name": "Python 3 (ipykernel)",
   "language": "python",
   "name": "python3"
  },
  "language_info": {
   "codemirror_mode": {
    "name": "ipython",
    "version": 3
   },
   "file_extension": ".py",
   "mimetype": "text/x-python",
   "name": "python",
   "nbconvert_exporter": "python",
   "pygments_lexer": "ipython3",
   "version": "3.11.6"
  }
 },
 "nbformat": 4,
 "nbformat_minor": 2
}
