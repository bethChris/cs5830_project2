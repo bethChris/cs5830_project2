{
 "cells": [
  {
   "cell_type": "code",
   "execution_count": null,
   "metadata": {},
   "outputs": [],
   "source": [
    "import pandas as pd \n",
    "import seaborn as sns\n",
    "from matplotlib import pyplot as plt\n",
    "import os\n",
    "import sys"
   ]
  },
  {
   "cell_type": "code",
   "execution_count": null,
   "metadata": {},
   "outputs": [],
   "source": [
    "cwd = os.getcwd()\n",
    "print(cwd)\n",
    "dataPath = os.path.join(cwd, 'data')\n",
    "austin_housing = pd.read_csv(os.path.join(dataPath, 'crime-housing-austin-2015.csv'))\n",
    "zip_codes = pd.read_csv(os.path.join(dataPath, 'AustinZipCodes.csv'))"
   ]
  },
  {
   "cell_type": "code",
   "execution_count": null,
   "metadata": {},
   "outputs": [],
   "source": [
    "austin_housing.head()\n",
    "austin_housing.columns"
   ]
  },
  {
   "cell_type": "code",
   "execution_count": null,
   "metadata": {},
   "outputs": [],
   "source": [
    "zip_codes.head()\n",
    "zip_codes.columns"
   ]
  },
  {
   "cell_type": "code",
   "execution_count": null,
   "metadata": {},
   "outputs": [],
   "source": [
    "\"\"\" \n",
    "Karl's Analysis \n",
    "\"\"\"\n",
    "import geopandas as gpd\n",
    "\n",
    "df = austin_housing.copy()\n",
    "# Date format: 01-Jan-15.  d=day, b=abbreviated month,y=2-digit year\n",
    "# df['Report_Date'] = pd.to_datetime(df['Report_Date'], format='%d-%b-%y')\n",
    "\n",
    "\n",
    "# Aggregate crimes by zip code\n",
    "crime_zip = df[['Zip_Code_Crime', 'Highest_Offense_Desc']].copy()\n",
    "crime_zip.dropna(inplace=True)\n",
    "crime_zip.groupby(['Zip_Code_Crime', 'Highest_Offense_Desc']).count()\n",
    "crime_zip['Total_Crime'] = crime_zip.groupby(['Zip_Code_Crime', 'Highest_Offense_Desc'])['Highest_Offense_Desc'].transform('count')\n",
    "crime_zip['Zip_Code_Crime'] = crime_zip['Zip_Code_Crime'].astype('int64')\n",
    "crime_zip['Zip_Code_Crime'] = crime_zip['Zip_Code_Crime'].astype('str')\n",
    "# print(crime_zip.columns)\n",
    "# print(crime_zip.head(5))\n",
    "\n",
    "# Create a df with the number of THEFTS per zip code. Drop duplicates (dunno y there are duplicates)\n",
    "theft_by_zip = crime_zip[crime_zip['Highest_Offense_Desc'] == 'THEFT'].copy().reset_index(drop=True)\n",
    "theft_by_zip.drop(columns=['Highest_Offense_Desc'], inplace=True)\n",
    "theft_by_zip.drop_duplicates(inplace=True)\n",
    "\n",
    "\"\"\" \n",
    "Map of Austin TX  \n",
    "https://openaustin.carto.com/u/oa-admin/tables/austin_area_zip_codes/public?redirected=true \n",
    "\"\"\"\n",
    "# Load the GeoDataFrame\n",
    "austinMap = gpd.read_file(os.path.join(dataPath, 'austin_area_zip_codes.geojson'))\n",
    "austinMap['zipcode'] = austinMap['zipcode'].astype('str')\n",
    "\n",
    "# Merge THEFT counts with austinMap\n",
    "austinMap = austinMap.merge(theft_by_zip, left_on='zipcode', right_on='Zip_Code_Crime', how='left')\n",
    "# Save GEOJSON file to look at data\n",
    "# austinMap.to_file(os.path.join(dataPath, 'austinMap.geojson'), driver='GeoJSON')\n",
    "\n",
    "# Plot the GeoDataFrame\n",
    "fig, ax = plt.subplots(1, 1, figsize=(10, 10))\n",
    "austinMap.plot(ax=ax, column='Total_Crime', cmap='OrRd', linewidth=0.5, edgecolor='black', legend=True)\n",
    "ax.set_title('THEFT by ZipCode in Austin TX', fontsize=16)\n",
    "plt.show()\n",
    "\n"
   ]
  }
 ],
 "metadata": {
  "kernelspec": {
   "display_name": "Python 3 (ipykernel)",
   "language": "python",
   "name": "python3"
  },
  "language_info": {
   "codemirror_mode": {
    "name": "ipython",
    "version": 3
   },
   "file_extension": ".py",
   "mimetype": "text/x-python",
   "name": "python",
   "nbconvert_exporter": "python",
   "pygments_lexer": "ipython3",
   "version": "3.11.6"
  }
 },
 "nbformat": 4,
 "nbformat_minor": 2
}
